{
 "cells": [
  {
   "cell_type": "code",
   "execution_count": 2,
   "metadata": {
    "collapsed": true
   },
   "outputs": [],
   "source": [
    "import numpy as np\n",
    "import pandas as pd\n",
    "from sklearn.linear_model import LinearRegression\n",
    "import matplotlib.pyplot as plt"
   ]
  },
  {
   "cell_type": "code",
   "execution_count": 37,
   "metadata": {
    "collapsed": false
   },
   "outputs": [
    {
     "data": {
      "image/png": "[encoded data removed]",
      "text/plain": [
       "<matplotlib.figure.Figure at 0x1d53b1a3550>"
      ]
     },
     "metadata": {},
     "output_type": "display_data"
    }
   ],
   "source": [
    "plt.figure(figsize=(17,3))\n",
    "\n",
    "x = np.arange(-5, 5, 0.001)\n",
    "y1 = np.tanh(x)\n",
    "y2 = 1/(1 + np.exp(-x))\n",
    "y3 = np.zeros(x.shape)\n",
    "y3 = np.maximum(x, 0)\n",
    "y4 = []\n",
    "for i in x:\n",
    "    if i < 0:\n",
    "        y4.append(0.05 * i)\n",
    "    else:\n",
    "        y4.append(i)\n",
    "        \n",
    "\n",
    "plt.subplot(141)\n",
    "plt.plot(x, y1)\n",
    "plt.plot(np.arange(-5, 6), np.zeros(11), 'black', alpha=0.5)\n",
    "plt.plot(np.zeros(3), np.arange(-1, 2), 'black', alpha=0.5)\n",
    "plt.title(\"Tanh (-1, 1)\", size=15)\n",
    "plt.grid(True)\n",
    "plt.subplot(142)\n",
    "plt.plot(x, y2)\n",
    "plt.plot(np.arange(-5, 6), np.zeros(11), 'black', alpha=0.5)\n",
    "plt.plot(np.zeros(2), np.arange(0, 2), 'black', alpha=0.5)\n",
    "plt.title(\"Sigmoid (0, 1)\", size=15)\n",
    "plt.grid(True)\n",
    "plt.subplot(143)\n",
    "plt.plot(x, y3)\n",
    "plt.title(\"ReLU\", size=15)\n",
    "plt.ylim([-0.5, 5])\n",
    "plt.grid(True)\n",
    "plt.subplot(144)\n",
    "plt.plot(x, y4)\n",
    "plt.title(\"Leaky ReLU\", size=15)\n",
    "plt.ylim([-0.5, 5])\n",
    "plt.grid(True)\n",
    "plt.show()"
   ]
  },
  {
   "cell_type": "code",
   "execution_count": 2,
   "metadata": {
    "collapsed": true
   },
   "outputs": [],
   "source": [
    "bmi_life_data = pd.read_csv(\"bmi.csv\")"
   ]
  },
  {
   "cell_type": "code",
   "execution_count": 6,
   "metadata": {
    "collapsed": false
   },
   "outputs": [
    {
     "data": {
      "text/plain": [
       "Index(['Country', 'Life expectancy', 'BMI'], dtype='object')"
      ]
     },
     "execution_count": 6,
     "metadata": {},
     "output_type": "execute_result"
    }
   ],
   "source": [
    "bmi_life_data.columns"
   ]
  },
  {
   "cell_type": "code",
   "execution_count": 13,
   "metadata": {
    "collapsed": false
   },
   "outputs": [
    {
     "data": {
      "text/plain": [
       "array([[ 60.31564716]])"
      ]
     },
     "execution_count": 13,
     "metadata": {},
     "output_type": "execute_result"
    }
   ],
   "source": [
    "lr = LinearRegression()\n",
    "lr.fit(bmi_life_data[['BMI']], bmi_life_data[['Life expectancy']])\n",
    "lr.predict(21.07931)"
   ]
  },
  {
   "cell_type": "code",
   "execution_count": 18,
   "metadata": {
    "collapsed": false
   },
   "outputs": [
    {
     "data": {
      "text/plain": [
       "pandas.core.series.Series"
      ]
     },
     "execution_count": 18,
     "metadata": {},
     "output_type": "execute_result"
    }
   ],
   "source": [
    "type(bmi_life_data['BMI'])"
   ]
  },
  {
   "cell_type": "code",
   "execution_count": 17,
   "metadata": {
    "collapsed": false
   },
   "outputs": [
    {
     "data": {
      "text/plain": [
       "pandas.core.frame.DataFrame"
      ]
     },
     "execution_count": 17,
     "metadata": {},
     "output_type": "execute_result"
    }
   ],
   "source": [
    "type(bmi_life_data[['BMI']])"
   ]
  },
  {
   "cell_type": "code",
   "execution_count": 25,
   "metadata": {
    "collapsed": false
   },
   "outputs": [
    {
     "name": "stdout",
     "output_type": "stream",
     "text": [
      "Shape = (10,) , Dimensions = 1\n"
     ]
    }
   ],
   "source": [
    "a = np.arange(10)\n",
    "print(\"Shape =\", a.shape, \", Dimensions =\", a.ndim)"
   ]
  },
  {
   "cell_type": "code",
   "execution_count": 37,
   "metadata": {
    "collapsed": false
   },
   "outputs": [
    {
     "name": "stdout",
     "output_type": "stream",
     "text": [
      "Shape = (10, 1) , Dimensions = 2\n"
     ]
    }
   ],
   "source": [
    "b = a[:, None]\n",
    "print(\"Shape =\", b.shape, \", Dimensions =\", b.ndim)"
   ]
  },
  {
   "cell_type": "code",
   "execution_count": 28,
   "metadata": {
    "collapsed": false
   },
   "outputs": [
    {
     "name": "stdout",
     "output_type": "stream",
     "text": [
      "Shape = (10, 1) , Dimensions = 2\n"
     ]
    }
   ],
   "source": [
    "c = a[:, np.newaxis]\n",
    "print(\"Shape =\", c.shape, \", Dimensions =\", c.ndim)"
   ]
  },
  {
   "cell_type": "code",
   "execution_count": 30,
   "metadata": {
    "collapsed": false
   },
   "outputs": [
    {
     "name": "stdout",
     "output_type": "stream",
     "text": [
      "Shape = (10, 1) , Dimensions = 2\n"
     ]
    }
   ],
   "source": [
    "d = a.reshape(-1, 1)\n",
    "print(\"Shape =\", d.shape, \", Dimensions =\", d.ndim)"
   ]
  },
  {
   "cell_type": "code",
   "execution_count": 35,
   "metadata": {
    "collapsed": false
   },
   "outputs": [
    {
     "name": "stdout",
     "output_type": "stream",
     "text": [
      "e.shape: (2, 3, 4)\n",
      "e[:, :, :, None].shape: (2, 3, 4, 1)\n"
     ]
    }
   ],
   "source": [
    "e = np.arange(24).reshape(2, 3, 4)\n",
    "print(\"e.shape:\", e.shape)\n",
    "print(\"e[:, :, :, None].shape:\", e[:, :, :, None].shape)"
   ]
  },
  {
   "cell_type": "code",
   "execution_count": 11,
   "metadata": {
    "collapsed": false
   },
   "outputs": [
    {
     "data": {
      "text/plain": [
       "<matplotlib.axes._subplots.AxesSubplot at 0x23740c9ce80>"
      ]
     },
     "execution_count": 11,
     "metadata": {},
     "output_type": "execute_result"
    },
    {
     "data": {
      "image/png": "[encoded data removed]",
      "text/plain": [
       "<matplotlib.figure.Figure at 0x23740a93be0>"
      ]
     },
     "metadata": {},
     "output_type": "display_data"
    }
   ],
   "source": [
    "%matplotlib inline\n",
    "x = np.random.randn(100)\n",
    "y = np.random.randn(100)\n",
    "pd.DataFrame({'xxx':x, 'yyy':y}).plot()"
   ]
  },
  {
   "cell_type": "code",
   "execution_count": 12,
   "metadata": {
    "collapsed": false
   },
   "outputs": [
    {
     "name": "stdout",
     "output_type": "stream",
     "text": [
      "Change in weights for hidden layer to output layer:\n",
      "[ 0.00804047  0.00555918]\n",
      "Change in weights for input layer to hidden layer:\n",
      "[[  1.77005547e-04  -5.11178506e-04]\n",
      " [  3.54011093e-05  -1.02235701e-04]\n",
      " [ -7.08022187e-05   2.04471402e-04]]\n"
     ]
    }
   ],
   "source": [
    "import numpy as np\n",
    "\n",
    "\n",
    "def sigmoid(x):\n",
    "    \"\"\"\n",
    "    Calculate sigmoid\n",
    "    \"\"\"\n",
    "    return 1 / (1 + np.exp(-x))\n",
    "\n",
    "\n",
    "x = np.array([0.5, 0.1, -0.2])\n",
    "target = 0.6\n",
    "learnrate = 0.5\n",
    "\n",
    "weights_input_hidden = np.array([[0.5, -0.6],\n",
    "                                 [0.1, -0.2],\n",
    "                                 [0.1, 0.7]])\n",
    "\n",
    "weights_hidden_output = np.array([0.1, -0.3])\n",
    "\n",
    "## Forward pass\n",
    "hidden_layer_input = np.dot(x, weights_input_hidden)\n",
    "hidden_layer_output = sigmoid(hidden_layer_input)\n",
    "\n",
    "output_layer_in = np.dot(hidden_layer_output, weights_hidden_output)\n",
    "output = sigmoid(output_layer_in)\n",
    "\n",
    "## Backwards pass\n",
    "## TODO: Calculate output error\n",
    "error = target - output\n",
    "\n",
    "# TODO: Calculate error term for output layer\n",
    "output_error_term = error * output * (1 - output)\n",
    "\n",
    "# TODO: Calculate error term for hidden layer\n",
    "hidden_error_term = np.dot(output_error_term, weights_hidden_output) * \\\n",
    "                    hidden_layer_output * (1 - hidden_layer_output)\n",
    "\n",
    "# TODO: Calculate change in weights for hidden layer to output layer\n",
    "delta_w_h_o = learnrate * output_error_term * hidden_layer_output\n",
    "\n",
    "# TODO: Calculate change in weights for input layer to hidden layer\n",
    "delta_w_i_h = learnrate * hidden_error_term * x[:, None]\n",
    "\n",
    "print('Change in weights for hidden layer to output layer:')\n",
    "print(delta_w_h_o)\n",
    "print('Change in weights for input layer to hidden layer:')\n",
    "print(delta_w_i_h)\n"
   ]
  },
  {
   "cell_type": "code",
   "execution_count": 40,
   "metadata": {
    "collapsed": false
   },
   "outputs": [
    {
     "name": "stderr",
     "output_type": "stream",
     "text": [
      "c:\\anaconda\\envs\\tfgpu\\lib\\site-packages\\ipykernel_launcher.py:18: DeprecationWarning: \n",
      ".ix is deprecated. Please use\n",
      ".loc for label based indexing or\n",
      ".iloc for positional indexing\n",
      "\n",
      "See the documentation here:\n",
      "http://pandas.pydata.org/pandas-docs/stable/indexing.html#deprecate_ix\n"
     ]
    }
   ],
   "source": [
    "import numpy as np\n",
    "import pandas as pd\n",
    "\n",
    "admissions = pd.read_csv('binary.csv')\n",
    "\n",
    "# Make dummy variables for rank\n",
    "data = pd.concat([admissions, pd.get_dummies(admissions['rank'], prefix='rank')], axis=1)\n",
    "data = data.drop('rank', axis=1)\n",
    "\n",
    "# Standarize features\n",
    "for field in ['gre', 'gpa']:\n",
    "    mean, std = data[field].mean(), data[field].std()\n",
    "    data.loc[:,field] = (data[field]-mean)/std\n",
    "    \n",
    "# Split off random 10% of the data for testing\n",
    "np.random.seed(21)\n",
    "sample = np.random.choice(data.index, size=int(len(data)*0.9), replace=False)\n",
    "data, test_data = data.ix[sample], data.drop(sample)\n",
    "\n",
    "# Split into features and targets\n",
    "features, targets = data.drop('admit', axis=1), data['admit']\n",
    "features_test, targets_test = test_data.drop('admit', axis=1), test_data['admit']"
   ]
  },
  {
   "cell_type": "code",
   "execution_count": 41,
   "metadata": {
    "collapsed": false
   },
   "outputs": [
    {
     "data": {
      "text/plain": [
       "(360, 6)"
      ]
     },
     "execution_count": 41,
     "metadata": {},
     "output_type": "execute_result"
    }
   ],
   "source": [
    "features.shape"
   ]
  },
  {
   "cell_type": "code",
   "execution_count": 42,
   "metadata": {
    "collapsed": false
   },
   "outputs": [
    {
     "data": {
      "text/plain": [
       "(360,)"
      ]
     },
     "execution_count": 42,
     "metadata": {},
     "output_type": "execute_result"
    }
   ],
   "source": [
    "targets.shape"
   ]
  },
  {
   "cell_type": "code",
   "execution_count": 43,
   "metadata": {
    "collapsed": false
   },
   "outputs": [],
   "source": [
    "features = features[:5]\n",
    "targets = targets[:5]"
   ]
  },
  {
   "cell_type": "code",
   "execution_count": 44,
   "metadata": {
    "collapsed": false
   },
   "outputs": [
    {
     "name": "stdout",
     "output_type": "stream",
     "text": [
      "训练数据个数： 5\n",
      "输入特征数量： 6\n"
     ]
    }
   ],
   "source": [
    "n_records, n_features = features.shape\n",
    "print(\"训练数据个数：\", n_records)\n",
    "print(\"输入特征数量：\", n_features)"
   ]
  },
  {
   "cell_type": "code",
   "execution_count": 45,
   "metadata": {
    "collapsed": false
   },
   "outputs": [
    {
     "data": {
      "text/plain": [
       "(array([ 0.97215519,  0.44696493,  1.        ,  0.        ,  0.        ,  0.        ]),\n",
       " 1)"
      ]
     },
     "execution_count": 45,
     "metadata": {},
     "output_type": "execute_result"
    }
   ],
   "source": [
    "iterable = zip(features.values, targets)\n",
    "next(iterable)"
   ]
  },
  {
   "cell_type": "code",
   "execution_count": 47,
   "metadata": {
    "collapsed": true
   },
   "outputs": [
    {
     "name": "stdout",
     "output_type": "stream",
     "text": [
      "Train loss:  0.27043332198\n",
      "Train loss:  0.27038750312\n",
      "Train loss:  0.270341700244\n",
      "Train loss:  0.270295913349\n",
      "Train loss:  0.270250142432\n",
      "Train loss:  0.27020438749\n",
      "Train loss:  0.270158648521\n",
      "Train loss:  0.270112925522\n",
      "Train loss:  0.270067218489\n",
      "Train loss:  0.270021527421\n",
      "Train loss:  0.269975852314\n",
      "Train loss:  0.269930193165\n",
      "Train loss:  0.269884549972\n",
      "Train loss:  0.269838922732\n",
      "Train loss:  0.269793311442\n",
      "Train loss:  0.2697477161\n",
      "Train loss:  0.269702136701\n",
      "Train loss:  0.269656573245\n",
      "Train loss:  0.269611025727\n",
      "Train loss:  0.269565494146\n",
      "Train loss:  0.269519978497\n",
      "Train loss:  0.26947447878\n",
      "Train loss:  0.269428994989\n",
      "Train loss:  0.269383527123\n",
      "Train loss:  0.26933807518\n",
      "Train loss:  0.269292639155\n",
      "Train loss:  0.269247219047\n",
      "Train loss:  0.269201814851\n",
      "Train loss:  0.269156426567\n",
      "Train loss:  0.26911105419\n",
      "Train loss:  0.269065697718\n",
      "Train loss:  0.269020357148\n",
      "Train loss:  0.268975032477\n",
      "Train loss:  0.268929723703\n",
      "Train loss:  0.268884430822\n",
      "Train loss:  0.268839153831\n",
      "Train loss:  0.268793892728\n",
      "Train loss:  0.26874864751\n",
      "Train loss:  0.268703418174\n",
      "Train loss:  0.268658204718\n",
      "Train loss:  0.268613007137\n",
      "Train loss:  0.26856782543\n",
      "Train loss:  0.268522659593\n",
      "Train loss:  0.268477509624\n",
      "Train loss:  0.26843237552\n",
      "Train loss:  0.268387257277\n",
      "Train loss:  0.268342154894\n",
      "Train loss:  0.268297068366\n",
      "Train loss:  0.268251997692\n",
      "Train loss:  0.268206942868\n",
      "Train loss:  0.268161903891\n",
      "Train loss:  0.268116880759\n",
      "Train loss:  0.268071873469\n",
      "Train loss:  0.268026882017\n",
      "Train loss:  0.267981906401\n",
      "Train loss:  0.267936946618\n",
      "Train loss:  0.267892002665\n",
      "Train loss:  0.267847074539\n",
      "Train loss:  0.267802162237\n",
      "Train loss:  0.267757265757\n",
      "Train loss:  0.267712385094\n",
      "Train loss:  0.267667520248\n",
      "Train loss:  0.267622671213\n",
      "Train loss:  0.267577837988\n",
      "Train loss:  0.26753302057\n",
      "Train loss:  0.267488218955\n",
      "Train loss:  0.267443433142\n",
      "Train loss:  0.267398663126\n",
      "Train loss:  0.267353908905\n",
      "Train loss:  0.267309170475\n",
      "Train loss:  0.267264447835\n",
      "Train loss:  0.267219740981\n",
      "Train loss:  0.26717504991\n",
      "Train loss:  0.26713037462\n",
      "Train loss:  0.267085715106\n",
      "Train loss:  0.267041071367\n",
      "Train loss:  0.266996443399\n",
      "Train loss:  0.266951831199\n",
      "Train loss:  0.266907234765\n",
      "Train loss:  0.266862654093\n",
      "Train loss:  0.26681808918\n",
      "Train loss:  0.266773540024\n",
      "Train loss:  0.266729006622\n",
      "Train loss:  0.26668448897\n",
      "Train loss:  0.266639987066\n",
      "Train loss:  0.266595500906\n",
      "Train loss:  0.266551030488\n",
      "Train loss:  0.266506575808\n",
      "Train loss:  0.266462136865\n",
      "Train loss:  0.266417713653\n",
      "Train loss:  0.266373306172\n",
      "Train loss:  0.266328914417\n",
      "Train loss:  0.266284538386\n",
      "Train loss:  0.266240178076\n",
      "Train loss:  0.266195833483\n",
      "Train loss:  0.266151504605\n",
      "Train loss:  0.266107191439\n",
      "Train loss:  0.266062893981\n",
      "Train loss:  0.266018612229\n",
      "Train loss:  0.26597434618\n",
      "Prediction accuracy: 0.475\n"
     ]
    }
   ],
   "source": [
    "# 每个训练数据包含6个输入特征：GRE, GPA, RANK1234\n",
    "# 360个训练数据（360，6）\n",
    "\n",
    "np.random.seed(21)\n",
    "\n",
    "def sigmoid(x):\n",
    "    \"\"\"\n",
    "    Calculate sigmoid\n",
    "    \"\"\"\n",
    "    return 1 / (1 + np.exp(-x))\n",
    "\n",
    "\n",
    "# Hyperparameters\n",
    "n_hidden = 2  # number of hidden units\n",
    "epochs = 100\n",
    "learnrate = 0.005\n",
    "\n",
    "n_records, n_features = features.shape\n",
    "last_loss = None\n",
    "# Initialize weights\n",
    "weights_input_hidden = np.random.normal(scale=1 / n_features ** .5, size=(n_features, n_hidden))\n",
    "weights_hidden_output = np.random.normal(scale=1 / n_features ** .5, size=n_hidden)\n",
    "\n",
    "for e in range(epochs):\n",
    "    del_w_input_hidden = np.zeros(weights_input_hidden.shape)\n",
    "    del_w_hidden_output = np.zeros(weights_hidden_output.shape)\n",
    "    for x, y in zip(features.values, targets):\n",
    "        ## Forward pass ##\n",
    "        # TODO: Calculate the output\n",
    "        hidden_input = np.dot(x, weights_input_hidden)\n",
    "        hidden_output = sigmoid(hidden_input)\n",
    "\n",
    "        output = sigmoid(np.dot(hidden_output, weights_hidden_output))\n",
    "        \n",
    "        ## Backward pass ##\n",
    "        # TODO: Calculate the network's prediction error\n",
    "        error = y - output\n",
    "\n",
    "        # TODO: Calculate error term for the output unit\n",
    "        output_error_term = error * output * (1 - output)\n",
    "\n",
    "        ## propagate errors to hidden layer\n",
    "\n",
    "        # TODO: Calculate the hidden layer's contribution to the error\n",
    "        hidden_error = np.dot(output_error_term, weights_hidden_output)\n",
    "\n",
    "        # TODO: Calculate the error term for the hidden layer\n",
    "        hidden_error_term = hidden_error * hidden_output * (1 - hidden_output)\n",
    "\n",
    "        # TODO: Update the change in weights\n",
    "        del_w_hidden_output += output_error_term * hidden_output\n",
    "        del_w_input_hidden += hidden_error_term * x[:, None]\n",
    "\n",
    "    # TODO: Update weights\n",
    "    weights_input_hidden += learnrate * del_w_input_hidden / n_records\n",
    "    weights_hidden_output += learnrate * del_w_hidden_output / n_records\n",
    "\n",
    "    # Printing out the mean square error on the training set\n",
    "\n",
    "    hidden_output = sigmoid(np.dot(x, weights_input_hidden))\n",
    "    out = sigmoid(np.dot(hidden_output, weights_hidden_output))\n",
    "    loss = np.mean((out - targets) ** 2)\n",
    "\n",
    "    if last_loss and last_loss < loss:\n",
    "        print(\"Train loss: \", loss, \"  WARNING -  Loss Increasing\")\n",
    "    else:\n",
    "        print(\"Train loss: \", loss)\n",
    "    last_loss = loss\n",
    "\n",
    "# Calculate accuracy on test data\n",
    "hidden = sigmoid(np.dot(features_test, weights_input_hidden))\n",
    "out = sigmoid(np.dot(hidden, weights_hidden_output))\n",
    "predictions = out > 0.5\n",
    "accuracy = np.mean(predictions == targets_test)\n",
    "print(\"Prediction accuracy: {:.3f}\".format(accuracy))\n"
   ]
  },
  {
   "cell_type": "code",
   "execution_count": 67,
   "metadata": {
    "collapsed": false,
    "scrolled": false
   },
   "outputs": [
    {
     "name": "stdout",
     "output_type": "stream",
     "text": [
      "0%\r",
      "1%\r",
      "2%\r",
      "3%\r",
      "4%\r",
      "5%\r",
      "6%\r",
      "7%\r",
      "8%\r",
      "9%\r",
      "10%\r",
      "11%\r",
      "12%\r",
      "13%\r",
      "14%\r",
      "15%\r",
      "16%\r",
      "17%\r",
      "18%\r",
      "19%\r",
      "20%\r",
      "21%\r",
      "22%\r",
      "23%\r",
      "24%\r",
      "25%\r",
      "26%\r",
      "27%\r",
      "28%\r",
      "29%\r",
      "30%\r",
      "31%\r",
      "32%\r",
      "33%\r",
      "34%\r",
      "35%\r",
      "36%\r",
      "37%\r",
      "38%\r",
      "39%\r",
      "40%\r",
      "41%\r",
      "42%\r",
      "43%\r",
      "44%\r",
      "45%\r",
      "46%\r",
      "47%\r",
      "48%\r",
      "49%\r",
      "50%\r",
      "51%\r",
      "52%\r",
      "53%\r",
      "54%\r",
      "55%\r",
      "56%\r",
      "57%\r",
      "58%\r",
      "59%\r",
      "60%\r",
      "61%\r",
      "62%\r",
      "63%\r",
      "64%\r",
      "65%\r",
      "66%\r",
      "67%\r",
      "68%\r",
      "69%\r",
      "70%\r",
      "71%\r",
      "72%\r",
      "73%\r",
      "74%\r",
      "75%\r",
      "76%\r",
      "77%\r",
      "78%\r",
      "79%\r",
      "80%\r",
      "81%\r",
      "82%\r",
      "83%\r",
      "84%\r",
      "85%\r",
      "86%\r",
      "87%\r",
      "88%\r",
      "89%\r",
      "90%\r",
      "91%\r",
      "92%\r",
      "93%\r",
      "94%\r",
      "95%\r",
      "96%\r",
      "97%\r",
      "98%\r",
      "99%\r",
      "100%\r"
     ]
    }
   ],
   "source": [
    "import time\n",
    "import sys\n",
    "\n",
    "\n",
    "def backspace(n):\n",
    "    # print((b'\\x08').decode(), end='')     # use \\x08 char to go back\n",
    "    print('\\r', end='')                     # use '\\r' to go back\n",
    "\n",
    "\n",
    "for i in range(101):                        # for 0 to 100\n",
    "    s = str(i) + '%'                        # string for output\n",
    "    print(s, end='')                        # just print and flush\n",
    "    # sys.stdout.flush()                    # needed for flush when using \\x08\n",
    "    backspace(len(s))                       # back for n chars\n",
    "\n"
   ]
  }
 ],
 "metadata": {
  "kernelspec": {
   "display_name": "Python 3",
   "language": "python",
   "name": "python3"
  },
  "language_info": {
   "codemirror_mode": {
    "name": "ipython",
    "version": 3
   },
   "file_extension": ".py",
   "mimetype": "text/x-python",
   "name": "python",
   "nbconvert_exporter": "python",
   "pygments_lexer": "ipython3",
   "version": "3.5.3"
  }
 },
 "nbformat": 4,
 "nbformat_minor": 2
}
